{
 "cells": [
  {
   "cell_type": "markdown",
   "id": "aedebaa5",
   "metadata": {},
   "source": [
    "# Hospital Provider Cost Report Data Analysis"
   ]
  },
  {
   "cell_type": "markdown",
   "id": "9df884f8",
   "metadata": {},
   "source": [
    "## Objectives\n",
    "- Import and understand the dataset\n",
    "- Perform data cleaning and quality checks\n",
    "- Explore descriptive statistics\n",
    "- Visualize trends and key insights"
   ]
  },
  {
   "cell_type": "code",
   "execution_count": null,
   "id": "1a770d76",
   "metadata": {},
   "outputs": [],
   "source": [
    "# Data manipulation\n",
    "import pandas as pd\n",
    "import numpy as np\n",
    "\n",
    "# Visualization\n",
    "import matplotlib.pyplot as plt\n",
    "import seaborn as sns\n",
    "\n",
    "# Utility\n",
    "import os\n",
    "import warnings\n",
    "warnings.filterwarnings('ignore')\n",
    "print(os.getcwd())\n",
    "\n",
    "# Configure plots\n",
    "plt.style.use(\"default\")\n",
    "sns.set_theme()"
   ]
  },
  {
   "cell_type": "code",
   "execution_count": null,
   "id": "90e175b7",
   "metadata": {},
   "outputs": [],
   "source": [
    "# Display all columns when printing DataFrames\n",
    "pd.set_option(\"display.max_columns\", None)\n",
    "pd.set_option(\"display.precision\", 2)"
   ]
  },
  {
   "cell_type": "code",
   "execution_count": null,
   "id": "426bdceb",
   "metadata": {},
   "outputs": [],
   "source": [
    "# Example: CSV file\n",
    "file_path = \"Data/interim/hospital_provider_cost_output.csv\"\n",
    "df = pd.read_csv(file_path)\n",
    "\n",
    "# Quick check\n",
    "df.head()"
   ]
  },
  {
   "cell_type": "markdown",
   "id": "d8b21c63",
   "metadata": {},
   "source": [
    "## Notebook Outline\n",
    "1. Data Import & Inspection\n",
    "2. Data Cleaning\n",
    "3. Exploratory Data Analysis (EDA)\n",
    "4. Visualizations\n",
    "5. Insights & Conclusions"
   ]
  }
 ],
 "metadata": {
  "kernelspec": {
   "display_name": "Python 3",
   "language": "python",
   "name": "python3"
  },
  "language_info": {
   "codemirror_mode": {
    "name": "ipython",
    "version": 3
   },
   "file_extension": ".py",
   "mimetype": "text/x-python",
   "name": "python",
   "nbconvert_exporter": "python",
   "pygments_lexer": "ipython3",
   "version": "3.11.3"
  }
 },
 "nbformat": 4,
 "nbformat_minor": 5
}
